{
 "cells": [
  {
   "cell_type": "code",
   "execution_count": null,
   "metadata": {},
   "outputs": [],
   "source": [
    "import pandas as pd\n",
    "\n",
    "# Leer el archivo CSV\n",
    "df = pd.read_csv('teatroSXXI.csv', sep='|')\n",
    "\n",
    "# Mostrar las primeras filas\n",
    "print(df.head())"
   ]
  },
  {
   "cell_type": "code",
   "execution_count": null,
   "metadata": {},
   "outputs": [],
   "source": [
    "# Crear una copia del dataframe\n",
    "df_procesado = df.copy()\n",
    "\n",
    "# Reemplazar valores vacíos con 'nan'\n",
    "df_procesado = df_procesado.fillna('nan')\n",
    "\n",
    "# Añadir la nueva columna con fecha por defecto\n",
    "df_procesado['fechaFormat'] = '0-00-00'\n",
    "\n",
    "# Guardar el nuevo CSV\n",
    "df_procesado.to_csv('teatro_fechaFormat.csv', index=False, sep='|')\n",
    "\n",
    "# Mostrar las primeras filas del nuevo dataframe para verificar\n",
    "print(df_procesado.head())"
   ]
  },
  {
   "cell_type": "code",
   "execution_count": null,
   "metadata": {},
   "outputs": [],
   "source": [
    "%pip install langchain-community"
   ]
  },
  {
   "cell_type": "code",
   "execution_count": null,
   "metadata": {},
   "outputs": [],
   "source": [
    "from langchain_community.llms import Ollama\n",
    "import pandas as pd\n",
    "import time\n",
    "\n",
    "# Inicializar Ollama\n",
    "llm = Ollama(model=\"llama2\")\n",
    "\n",
    "# Leer el CSV\n",
    "df = pd.read_csv('teatro_fechaFormat.csv', sep='|')\n",
    "\n",
    "# Función para procesar una fecha con Ollama\n",
    "def procesar_fecha(fecha):\n",
    "    try:\n",
    "        prompt = f\"formatea esta fecha en el formato dd-mm-yyyy, dame solo la fecha formateada, no quiero explicaciones: {fecha}\"\n",
    "        respuesta = llm.invoke(prompt)\n",
    "        return respuesta.strip()\n",
    "    except Exception as e:\n",
    "        print(f\"Error procesando fecha: {fecha}. Error: {e}\")\n",
    "        return '00-00-0000'\n",
    "\n",
    "# Procesar cada fecha y guardar inmediatamente\n",
    "for idx, row in df.iterrows():\n",
    "    fecha_original = row['Fecha de estreno']\n",
    "    fecha_procesada = procesar_fecha(fecha_original)\n",
    "    df.at[idx, 'fechaFormat'] = fecha_procesada\n",
    "    # Imprimir información de cada fila\n",
    "    print(f\"Fila {idx}: Original: {fecha_original} -> Procesada: {fecha_procesada}\")\n",
    "    # Guardar después de cada actualización\n",
    "    df.to_csv('teatro_fechaOllama.csv', index=False, sep='|')\n",
    "\n",
    "print(\"Proceso completado!\")"
   ]
  },
  {
   "cell_type": "code",
   "execution_count": null,
   "metadata": {},
   "outputs": [],
   "source": [
    "import pandas as pd\n",
    "import re\n",
    "\n",
    "# Leer el CSV\n",
    "df = pd.read_csv('teatro_fechaOllama.csv', sep='|')\n",
    "\n",
    "# Función para validar el formato de fecha\n",
    "def validar_formato_fecha(fecha):\n",
    "    # Patrón para dd-mm-yyyy\n",
    "    patron = r'^\\d{2}-\\d{2}-\\d{4}$'\n",
    "    if pd.isna(fecha) or not isinstance(fecha, str):\n",
    "        return pd.NA\n",
    "    return fecha if re.match(patron, fecha.strip()) else pd.NA\n",
    "\n",
    "# Aplicar la validación a la columna fechaFormat\n",
    "df['fechaFormat'] = df['fechaFormat'].apply(validar_formato_fecha)\n",
    "\n",
    "# Guardar el resultado\n",
    "df.to_csv('teatro_fechaOllama.csv', index=False, sep='|')\n",
    "\n",
    "# Mostrar un resumen de los cambios\n",
    "print(\"Muestra de los datos actualizados:\")\n",
    "print(df[['fechaFormat']].head())\n",
    "print(\"\\nCantidad de fechas válidas:\", df['fechaFormat'].notna().sum())\n",
    "print(\"Cantidad de fechas inválidas (NaN):\", df['fechaFormat'].isna().sum())"
   ]
  },
  {
   "cell_type": "code",
   "execution_count": null,
   "metadata": {},
   "outputs": [],
   "source": [
    "import pandas as pd\n",
    "import re\n",
    "\n",
    "# Leer el CSV\n",
    "df = pd.read_csv('teatro_fechaOllama.csv', sep='|')\n",
    "\n",
    "# Función para validar el formato de fecha\n",
    "def validar_formato_fecha(fecha):\n",
    "    # Patrón para dd-mm-yyyy\n",
    "    patron = r'^\\d{2}-\\d{2}-\\d{4}$'\n",
    "    if pd.isna(fecha) or not isinstance(fecha, str):\n",
    "        return pd.NA\n",
    "    return fecha if re.match(patron, fecha.strip()) else pd.NA\n",
    "\n",
    "# Aplicar la validación a la columna fechaFormat\n",
    "df['fechaFormat'] = df['fechaFormat'].apply(validar_formato_fecha)\n",
    "\n",
    "# Crear un nuevo DataFrame solo con las columnas deseadas\n",
    "df_fechas = df[['Fecha de estreno', 'fechaFormat']]\n",
    "\n",
    "# Guardar el resultado\n",
    "df_fechas.to_csv('teatro_fechas_comparacion.csv', index=False, sep='|')\n",
    "\n",
    "# Mostrar un resumen de los cambios\n",
    "print(\"Muestra de los datos guardados:\")\n",
    "print(df_fechas.head())\n",
    "print(\"\\nCantidad de fechas válidas:\", df['fechaFormat'].notna().sum())\n",
    "print(\"Cantidad de fechas inválidas (NaN):\", df['fechaFormat'].isna().sum())"
   ]
  }
 ],
 "metadata": {
  "language_info": {
   "name": "python"
  }
 },
 "nbformat": 4,
 "nbformat_minor": 2
}
