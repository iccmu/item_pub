{
 "cells": [
  {
   "cell_type": "code",
   "execution_count": 2,
   "metadata": {},
   "outputs": [
    {
     "name": "stdout",
     "output_type": "stream",
     "text": [
      "        Autor/a                                               Obra  Temporada  \\\n",
      "0  Lope de Vega                                La Viuda Valenciana     2023.0   \n",
      "1  Lope de Vega                                      Fuenteovejuna     2023.0   \n",
      "2  Lope de Vega  Lo fingido verdadero. Historia de San Ginés, m...     2022.0   \n",
      "3  Lope de Vega                               Lo fingido verdadero     2022.0   \n",
      "4  Lope de Vega                                       La malcasada     2022.0   \n",
      "\n",
      "                                   Compañía  \\\n",
      "0                             La Valenciana   \n",
      "1                            Teatro Círculo   \n",
      "2                           Teatro a Canone   \n",
      "3  Compañía Nacional de Teatro Clásico,CNTC   \n",
      "4                         Tumbalobos Teatro   \n",
      "\n",
      "  Adaptador / Dramaturgismo / Traductor      Fecha de estreno  \\\n",
      "0                        Adrián Novella   30 de marzo de 2023   \n",
      "1               Mariano de Paco Serrano   30 de junio de 2023   \n",
      "2           Luca Vonella y Chiara Crupi   22 de julio de 2022   \n",
      "3                                   NaN  1 de febrero de 2022   \n",
      "4                David Fernández 'Fabu'   14 de julio de 2022   \n",
      "\n",
      "                                          Festivales  \\\n",
      "0                                                NaN   \n",
      "1                                                NaN   \n",
      "2  Festival internacional de Teatro Clásico de Al...   \n",
      "3                                                NaN   \n",
      "4  Festival internacional de Teatro Clásico de Al...   \n",
      "\n",
      "                                            Sinopsis  \\\n",
      "0  En la ciudad de València, en la zona de La Zai...   \n",
      "1  Un líder corrupto... Una mujer inquebrantable....   \n",
      "2  Ginés, estimado actor y comediante, en el año ...   \n",
      "3  Junto con Hamlet, de Shakespeare, y El impromp...   \n",
      "4  Feliciana una viuda sin dinero quiere casar a ...   \n",
      "\n",
      "                                         Web Oficial                Dirección  \\\n",
      "0   https://cialavalenciana.com/la-vidua-valenciana/           Adrián Novella   \n",
      "1          https://teatrocirculo.org/fuente-ovejuna/  Mariano de Paco Serrano   \n",
      "2  https://teatromadrid.com/espectaculo/teatro-a-...             Luca Vonella   \n",
      "3  https://teatroclasico.mcu.es/evento/lo-fingido...              Lluís Homar   \n",
      "4  https://www.festivaldealmagro.com/programa/la-...                Ana Vélez   \n",
      "\n",
      "                    Escenografía  \\\n",
      "0                    Luis Crespo   \n",
      "1                            NaN   \n",
      "2  Cinzia Laganà y Anna Fantozzi   \n",
      "3                     José Novoa   \n",
      "4                            NaN   \n",
      "\n",
      "                                             Reparto  \\\n",
      "0  Joan Isern, Antonio Lafuente, Mar Mandli, Raqu...   \n",
      "1  Juan Luis Acevedo, María Fontanals, José Cheo ...   \n",
      "2  Luca Vonella, Anna Fantozzi, Ilaria Fantozzi, ...   \n",
      "3  Silvia Acosta, María Besant, Montse Díez, Isra...   \n",
      "4  María Crespo, Rubén Riera, Alicia Rodríguez, D...   \n",
      "\n",
      "                   Iluminación Música y sonido Video escena  \\\n",
      "0                  Ximo Olcina             NaN          NaN   \n",
      "1                          NaN             NaN          NaN   \n",
      "2  Chiara Crupi y Eugenio Pane             NaN          NaN   \n",
      "3           Juan Gómez-Cornejo             NaN          NaN   \n",
      "4                          NaN             NaN          NaN   \n",
      "\n",
      "           Vestuario        Movimiento                           Producción  \\\n",
      "0     Mercedes Rubio  Alejandra García                        La Valenciana   \n",
      "1                NaN               NaN                       Teatro Círculo   \n",
      "2      Anna Fantozzi               NaN                      Teatro a Canone   \n",
      "3  Pier Paolo Álvaro               NaN  Compañía Nacional de Teatro Clásico   \n",
      "4       Alberto Romo               NaN                      Tumbados Teatro   \n",
      "\n",
      "                                   Lugar de estreno Unnamed: 19  \n",
      "0                         Teatro Rialto de Valencia         NaN  \n",
      "1                        Corral Cervantes de Madrid         NaN  \n",
      "2          Teatro Municipal de Almagro, Ciudad Real         NaN  \n",
      "3  Sala Princioa del Teatro de la Comedia de Madrid         NaN  \n",
      "4          Teatro Municipal de Almagro, Ciudad Real         NaN  \n"
     ]
    }
   ],
   "source": [
    "import pandas as pd\n",
    "\n",
    "# Leer el archivo CSV\n",
    "df = pd.read_csv('DATA/enero25.csv',na_values=['', ' '])\n",
    "\n",
    "# Mostrar las primeras filas del DataFrame para verificar la lectura\n",
    "print(df.head())"
   ]
  },
  {
   "cell_type": "code",
   "execution_count": 3,
   "metadata": {},
   "outputs": [
    {
     "name": "stdout",
     "output_type": "stream",
     "text": [
      "\n",
      "Información sobre valores nulos:\n",
      "Autor/a                                    5\n",
      "Obra                                       6\n",
      "Temporada                                  5\n",
      "Compañía                                   6\n",
      "Adaptador / Dramaturgismo / Traductor    123\n",
      "Fecha de estreno                         152\n",
      "Festivales                               387\n",
      "Sinopsis                                 318\n",
      "Web Oficial                              395\n",
      "Dirección                                 31\n",
      "Escenografía                             176\n",
      "Reparto                                   47\n",
      "Iluminación                              186\n",
      "Música y sonido                          264\n",
      "Video escena                             565\n",
      "Vestuario                                191\n",
      "Movimiento                               449\n",
      "Producción                                42\n",
      "Lugar de estreno                         179\n",
      "Unnamed: 19                              562\n",
      "dtype: int64\n"
     ]
    }
   ],
   "source": [
    "# Mostrar información sobre valores nulos\n",
    "print(\"\\nInformación sobre valores nulos:\")\n",
    "print(df.isnull().sum())"
   ]
  },
  {
   "cell_type": "code",
   "execution_count": 4,
   "metadata": {},
   "outputs": [
    {
     "name": "stdout",
     "output_type": "stream",
     "text": [
      "Columnas disponibles en el DataFrame:\n",
      "['Autor/a', 'Obra', 'Temporada', 'Compañía', 'Adaptador / Dramaturgismo / Traductor', 'Fecha de estreno', 'Festivales', 'Sinopsis', 'Web Oficial', 'Dirección', 'Escenografía', 'Reparto', 'Iluminación', 'Música y sonido', 'Video escena', 'Vestuario', 'Movimiento', 'Producción', 'Lugar de estreno', 'Unnamed: 19']\n",
      "\n",
      "Columnas que intentas seleccionar:\n",
      "['Autor/a', 'Obra', 'Fecha de estreno', 'Dirección', 'Compañía', 'Festivales', 'Lugar de estreno']\n",
      "\n",
      "Columnas que no existen en el DataFrame:\n"
     ]
    }
   ],
   "source": [
    "# Seleccionar las columnas específicas\n",
    "columnas_seleccionadas = [\n",
    "    'Autor/a',\n",
    "    'Obra',\n",
    "    'Fecha de estreno',\n",
    "    'Dirección',\n",
    "    'Compañía',\n",
    "    'Festivales',\n",
    "    'Lugar de estreno'\n",
    "]\n",
    "\n",
    "# Mostrar las columnas disponibles en el DataFrame\n",
    "print(\"Columnas disponibles en el DataFrame:\")\n",
    "print(df.columns.tolist())\n",
    "\n",
    "print(\"\\nColumnas que intentas seleccionar:\")\n",
    "print(columnas_seleccionadas)\n",
    "\n",
    "print(\"\\nColumnas que no existen en el DataFrame:\")\n",
    "for columna in columnas_seleccionadas:\n",
    "    if columna not in df.columns:\n",
    "        print(f\"- '{columna}'\")\n",
    "\n"
   ]
  },
  {
   "cell_type": "code",
   "execution_count": 5,
   "metadata": {},
   "outputs": [
    {
     "name": "stdout",
     "output_type": "stream",
     "text": [
      "        Autor/a                                               Obra  \\\n",
      "0  Lope de Vega                                La Viuda Valenciana   \n",
      "1  Lope de Vega                                      Fuenteovejuna   \n",
      "2  Lope de Vega  Lo fingido verdadero. Historia de San Ginés, m...   \n",
      "3  Lope de Vega                               Lo fingido verdadero   \n",
      "4  Lope de Vega                                       La malcasada   \n",
      "\n",
      "       Fecha de estreno                Dirección  \\\n",
      "0   30 de marzo de 2023           Adrián Novella   \n",
      "1   30 de junio de 2023  Mariano de Paco Serrano   \n",
      "2   22 de julio de 2022             Luca Vonella   \n",
      "3  1 de febrero de 2022              Lluís Homar   \n",
      "4   14 de julio de 2022                Ana Vélez   \n",
      "\n",
      "                                   Compañía  \\\n",
      "0                             La Valenciana   \n",
      "1                            Teatro Círculo   \n",
      "2                           Teatro a Canone   \n",
      "3  Compañía Nacional de Teatro Clásico,CNTC   \n",
      "4                         Tumbalobos Teatro   \n",
      "\n",
      "                                          Festivales  \\\n",
      "0                                                NaN   \n",
      "1                                                NaN   \n",
      "2  Festival internacional de Teatro Clásico de Al...   \n",
      "3                                                NaN   \n",
      "4  Festival internacional de Teatro Clásico de Al...   \n",
      "\n",
      "                                   Lugar de estreno  \n",
      "0                         Teatro Rialto de Valencia  \n",
      "1                        Corral Cervantes de Madrid  \n",
      "2          Teatro Municipal de Almagro, Ciudad Real  \n",
      "3  Sala Princioa del Teatro de la Comedia de Madrid  \n",
      "4          Teatro Municipal de Almagro, Ciudad Real  \n"
     ]
    }
   ],
   "source": [
    "# Crear un nuevo DataFrame con solo las columnas seleccionadas\n",
    "df_seleccionado = df[columnas_seleccionadas]\n",
    "\n",
    "# Mostrar las primeras filas del nuevo DataFrame\n",
    "print(df_seleccionado.head())"
   ]
  },
  {
   "cell_type": "code",
   "execution_count": 6,
   "metadata": {},
   "outputs": [
    {
     "name": "stdout",
     "output_type": "stream",
     "text": [
      "   id       Autor/a                                               Obra  \\\n",
      "0   1  Lope de Vega                                La Viuda Valenciana   \n",
      "1   2  Lope de Vega                                      Fuenteovejuna   \n",
      "2   3  Lope de Vega  Lo fingido verdadero. Historia de San Ginés, m...   \n",
      "3   4  Lope de Vega                               Lo fingido verdadero   \n",
      "4   5  Lope de Vega                                       La malcasada   \n",
      "\n",
      "       Fecha de estreno                Dirección  \\\n",
      "0   30 de marzo de 2023           Adrián Novella   \n",
      "1   30 de junio de 2023  Mariano de Paco Serrano   \n",
      "2   22 de julio de 2022             Luca Vonella   \n",
      "3  1 de febrero de 2022              Lluís Homar   \n",
      "4   14 de julio de 2022                Ana Vélez   \n",
      "\n",
      "                                   Compañía  \\\n",
      "0                             La Valenciana   \n",
      "1                            Teatro Círculo   \n",
      "2                           Teatro a Canone   \n",
      "3  Compañía Nacional de Teatro Clásico,CNTC   \n",
      "4                         Tumbalobos Teatro   \n",
      "\n",
      "                                          Festivales  \\\n",
      "0                                                NaN   \n",
      "1                                                NaN   \n",
      "2  Festival internacional de Teatro Clásico de Al...   \n",
      "3                                                NaN   \n",
      "4  Festival internacional de Teatro Clásico de Al...   \n",
      "\n",
      "                                   Lugar de estreno  \n",
      "0                         Teatro Rialto de Valencia  \n",
      "1                        Corral Cervantes de Madrid  \n",
      "2          Teatro Municipal de Almagro, Ciudad Real  \n",
      "3  Sala Princioa del Teatro de la Comedia de Madrid  \n",
      "4          Teatro Municipal de Almagro, Ciudad Real  \n"
     ]
    },
    {
     "name": "stderr",
     "output_type": "stream",
     "text": [
      "/var/folders/3h/bml8f_c50dxgf6rhz_0bpn8r0000gn/T/ipykernel_9566/1150427710.py:2: SettingWithCopyWarning: \n",
      "A value is trying to be set on a copy of a slice from a DataFrame.\n",
      "Try using .loc[row_indexer,col_indexer] = value instead\n",
      "\n",
      "See the caveats in the documentation: https://pandas.pydata.org/pandas-docs/stable/user_guide/indexing.html#returning-a-view-versus-a-copy\n",
      "  df_seleccionado['id'] = range(1, len(df_seleccionado) + 1)\n"
     ]
    }
   ],
   "source": [
    "# Crear la columna id directamente sin usar reset_index\n",
    "df_seleccionado['id'] = range(1, len(df_seleccionado) + 1)\n",
    "\n",
    "# Reordenar las columnas para que 'id' aparezca primero\n",
    "columnas_ordenadas = ['id'] + columnas_seleccionadas\n",
    "\n",
    "# Reordenar el DataFrame\n",
    "df_final = df_seleccionado[columnas_ordenadas]\n",
    "\n",
    "# Guardar el DataFrame con pipe (|) como separador\n",
    "df_final.to_csv('enero25processed.csv', index=False, sep='|')\n",
    "\n",
    "\n",
    "# Mostrar las primeras filas para verificar\n",
    "print(df_final.head())"
   ]
  }
 ],
 "metadata": {
  "kernelspec": {
   "display_name": "teatrero",
   "language": "python",
   "name": "python3"
  },
  "language_info": {
   "codemirror_mode": {
    "name": "ipython",
    "version": 3
   },
   "file_extension": ".py",
   "mimetype": "text/x-python",
   "name": "python",
   "nbconvert_exporter": "python",
   "pygments_lexer": "ipython3",
   "version": "3.12.7"
  }
 },
 "nbformat": 4,
 "nbformat_minor": 2
}
